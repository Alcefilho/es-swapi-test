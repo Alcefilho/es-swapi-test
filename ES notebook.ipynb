{
 "metadata": {
  "name": "",
  "signature": "sha256:9bf58bf3575bfe9d7d08654d3d190c2fb693ec0dcb33272b741762df6763c19f"
 },
 "nbformat": 3,
 "nbformat_minor": 0,
 "worksheets": [
  {
   "cells": [
    {
     "cell_type": "code",
     "collapsed": false,
     "input": [
      "# make sure ES is up and running\n",
      "import requests\n",
      "res = requests.get('http://localhost:9200')\n",
      "print(res.content)"
     ],
     "language": "python",
     "metadata": {},
     "outputs": [
      {
       "output_type": "stream",
       "stream": "stdout",
       "text": [
        "{\n",
        "  \"status\" : 200,\n",
        "  \"name\" : \"Delphine Courtney\",\n",
        "  \"cluster_name\" : \"elasticsearch\",\n",
        "  \"version\" : {\n",
        "    \"number\" : \"1.4.2\",\n",
        "    \"build_hash\" : \"927caff6f05403e936c20bf4529f144f0c89fd8c\",\n",
        "    \"build_timestamp\" : \"2014-12-16T14:11:12Z\",\n",
        "    \"build_snapshot\" : false,\n",
        "    \"lucene_version\" : \"4.10.2\"\n",
        "  },\n",
        "  \"tagline\" : \"You Know, for Search\"\n",
        "}\n",
        "\n"
       ]
      }
     ],
     "prompt_number": 21
    },
    {
     "cell_type": "code",
     "collapsed": false,
     "input": [
      "#connect to our cluster\n",
      "from elasticsearch import Elasticsearch\n",
      "es = Elasticsearch([{'host': 'localhost', 'port': 9200}])"
     ],
     "language": "python",
     "metadata": {},
     "outputs": [],
     "prompt_number": 22
    },
    {
     "cell_type": "code",
     "collapsed": false,
     "input": [
      "#index some test data\n",
      "es.index(index='test-index', doc_type='test', id=1, body={'test': 'test'})"
     ],
     "language": "python",
     "metadata": {},
     "outputs": [
      {
       "metadata": {},
       "output_type": "pyout",
       "prompt_number": 47,
       "text": [
        "{u'_id': u'1',\n",
        " u'_index': u'test-index',\n",
        " u'_type': u'test',\n",
        " u'_version': 3,\n",
        " u'created': True}"
       ]
      }
     ],
     "prompt_number": 47
    },
    {
     "cell_type": "code",
     "collapsed": false,
     "input": [
      "#delete test data and try with something more interesting\n",
      "es.delete(index='test-index', doc_type='test', id=1)\n"
     ],
     "language": "python",
     "metadata": {},
     "outputs": [
      {
       "metadata": {},
       "output_type": "pyout",
       "prompt_number": 48,
       "text": [
        "{u'_id': u'1',\n",
        " u'_index': u'test-index',\n",
        " u'_type': u'test',\n",
        " u'_version': 4,\n",
        " u'found': True}"
       ]
      }
     ],
     "prompt_number": 48
    },
    {
     "cell_type": "code",
     "collapsed": false,
     "input": [
      "es.index(index='sw', doc_type='people', id=1, body={\n",
      "\t\"name\": \"Luke Skywalker\",\n",
      "\t\"height\": \"172\",\n",
      "\t\"mass\": \"77\",\n",
      "\t\"hair_color\": \"blond\",\n",
      "\t\"birth_year\": \"19BBY\",\n",
      "\t\"gender\": \"male\",\n",
      "})"
     ],
     "language": "python",
     "metadata": {},
     "outputs": [
      {
       "metadata": {},
       "output_type": "pyout",
       "prompt_number": 27,
       "text": [
        "{u'_id': u'1',\n",
        " u'_index': u'sw',\n",
        " u'_type': u'people',\n",
        " u'_version': 1,\n",
        " u'created': True}"
       ]
      }
     ],
     "prompt_number": 27
    },
    {
     "cell_type": "code",
     "collapsed": false,
     "input": [
      "#let's iterate over swapi people documents and index them\n",
      "r = requests.get('http://localhost:9200') \n",
      "i = 1\n",
      "while r.status_code == 200:\n",
      "    r = requests.get('http://swapi.co/api/people/'+ str(i))\n",
      "    es.index(index='sw', doc_type='people', id=i, body=str(r.content)\n",
      "    i=i+1\n",
      "    \n",
      "print(i)"
     ],
     "language": "python",
     "metadata": {},
     "outputs": [
      {
       "output_type": "stream",
       "stream": "stdout",
       "text": [
        "18\n"
       ]
      }
     ],
     "prompt_number": 57
    },
    {
     "cell_type": "code",
     "collapsed": false,
     "input": [
      "#let's add more data but using node 2! Starting where the other stopped\n",
      "import simplejson\n",
      "\n",
      "r = requests.get('http://localhost:9201') \n",
      "i = 19\n",
      "while r.status_code == 200:\n",
      "    r = requests.get('http://swapi.co/api/people/'+ str(i))\n",
      "    es.index(index='sw', doc_type='people', id=i, body=simplejson.loads(r.content))\n",
      "    i=i+1\n",
      "print(i)"
     ],
     "language": "python",
     "metadata": {},
     "outputs": [
      {
       "output_type": "stream",
       "stream": "stdout",
       "text": [
        "85\n"
       ]
      }
     ],
     "prompt_number": 82
    },
    {
     "cell_type": "code",
     "collapsed": false,
     "input": [
      "es.get(index='sw', doc_type='people', id=65)"
     ],
     "language": "python",
     "metadata": {},
     "outputs": [
      {
       "metadata": {},
       "output_type": "pyout",
       "prompt_number": 87,
       "text": [
        "{u'_id': u'65',\n",
        " u'_index': u'sw',\n",
        " u'_source': {u'birth_year': u'40BBY',\n",
        "  u'created': u'2014-12-20T16:46:40.440000Z',\n",
        "  u'edited': u'2014-12-20T21:17:50.457000Z',\n",
        "  u'eye_color': u'blue',\n",
        "  u'films': [u'http://swapi.co/api/films/5/'],\n",
        "  u'gender': u'female',\n",
        "  u'hair_color': u'black',\n",
        "  u'height': u'166',\n",
        "  u'homeworld': u'http://swapi.co/api/planets/51/',\n",
        "  u'mass': u'50',\n",
        "  u'name': u'Barriss Offee',\n",
        "  u'skin_color': u'yellow',\n",
        "  u'species': [u'http://swapi.co/api/species/29/'],\n",
        "  u'starships': [],\n",
        "  u'url': u'http://swapi.co/api/people/65/',\n",
        "  u'vehicles': []},\n",
        " u'_type': u'people',\n",
        " u'_version': 1,\n",
        " u'found': True}"
       ]
      }
     ],
     "prompt_number": 87
    },
    {
     "cell_type": "code",
     "collapsed": false,
     "input": [
      "#let's find darth vader\n",
      "es.search(index=\"sw\", body={\"query\": {\"prefix\" : { \"name\" : \"Darth Vader\" }}})"
     ],
     "language": "python",
     "metadata": {},
     "outputs": [
      {
       "metadata": {},
       "output_type": "pyout",
       "prompt_number": 103,
       "text": [
        "{u'_shards': {u'failed': 0, u'successful': 5, u'total': 5},\n",
        " u'hits': {u'hits': [{u'_id': u'1',\n",
        "    u'_index': u'sw',\n",
        "    u'_score': 1.0,\n",
        "    u'_source': {u'birth_year': u'19BBY',\n",
        "     u'created': u'2014-12-09T13:50:51.644000Z',\n",
        "     u'edited': u'2014-12-20T21:17:56.891000Z',\n",
        "     u'eye_color': u'blue',\n",
        "     u'films': [u'http://swapi.co/api/films/1/',\n",
        "      u'http://swapi.co/api/films/2/',\n",
        "      u'http://swapi.co/api/films/3/',\n",
        "      u'http://swapi.co/api/films/6/'],\n",
        "     u'gender': u'male',\n",
        "     u'hair_color': u'blond',\n",
        "     u'height': u'172',\n",
        "     u'homeworld': u'http://swapi.co/api/planets/1/',\n",
        "     u'mass': u'77',\n",
        "     u'name': u'Luke Skywalker',\n",
        "     u'skin_color': u'fair',\n",
        "     u'species': [u'http://swapi.co/api/species/1/'],\n",
        "     u'starships': [u'http://swapi.co/api/starships/12/',\n",
        "      u'http://swapi.co/api/starships/22/'],\n",
        "     u'url': u'http://swapi.co/api/people/1/',\n",
        "     u'vehicles': [u'http://swapi.co/api/vehicles/14/',\n",
        "      u'http://swapi.co/api/vehicles/30/']},\n",
        "    u'_type': u'people'},\n",
        "   {u'_id': u'64',\n",
        "    u'_index': u'sw',\n",
        "    u'_score': 1.0,\n",
        "    u'_source': {u'birth_year': u'58BBY',\n",
        "     u'created': u'2014-12-20T16:45:53.668000Z',\n",
        "     u'edited': u'2014-12-20T21:17:50.455000Z',\n",
        "     u'eye_color': u'blue',\n",
        "     u'films': [u'http://swapi.co/api/films/5/',\n",
        "      u'http://swapi.co/api/films/6/'],\n",
        "     u'gender': u'female',\n",
        "     u'hair_color': u'black',\n",
        "     u'height': u'170',\n",
        "     u'homeworld': u'http://swapi.co/api/planets/51/',\n",
        "     u'mass': u'56.2',\n",
        "     u'name': u'Luminara Unduli',\n",
        "     u'skin_color': u'yellow',\n",
        "     u'species': [u'http://swapi.co/api/species/29/'],\n",
        "     u'starships': [],\n",
        "     u'url': u'http://swapi.co/api/people/64/',\n",
        "     u'vehicles': []},\n",
        "    u'_type': u'people'}],\n",
        "  u'max_score': 1.0,\n",
        "  u'total': 2},\n",
        " u'timed_out': False,\n",
        " u'took': 9}"
       ]
      }
     ],
     "prompt_number": 103
    },
    {
     "cell_type": "code",
     "collapsed": false,
     "input": [
      "#let's see if we find anyone with a name or surname starting with lu\n",
      "es.search(index=\"sw\", body={\"query\": {\"prefix\" : { \"name\" : \"lu\" }}})"
     ],
     "language": "python",
     "metadata": {},
     "outputs": []
    },
    {
     "cell_type": "code",
     "collapsed": false,
     "input": [
      "#let's try a fuzzy query\n",
      "q = es.search(index=\"sw\", body={\"query\": {\"fuzzy_like_this_field\" : { \"name\" : {\"like_text\": \"jaba\", \"max_query_terms\":5}}}})"
     ],
     "language": "python",
     "metadata": {},
     "outputs": [],
     "prompt_number": 129
    },
    {
     "cell_type": "code",
     "collapsed": false,
     "input": [
      "#Now to add some value to our response. A cool image. \n",
      "from simplejson import loads\n",
      "\n",
      "q = es.search(index=\"sw\", body={\"query\": {\"fuzzy_like_this_field\" : { \"name\" : {\"like_text\": \"jaba\", \"max_query_terms\":5}}}})\n",
      "jsonq =  loads(q)\n"
     ],
     "language": "python",
     "metadata": {},
     "outputs": [
      {
       "ename": "KeyError",
       "evalue": "0",
       "output_type": "pyerr",
       "traceback": [
        "\u001b[0;31m---------------------------------------------------------------------------\u001b[0m\n\u001b[0;31mKeyError\u001b[0m                                  Traceback (most recent call last)",
        "\u001b[0;32m<ipython-input-159-5e9b67f09ec7>\u001b[0m in \u001b[0;36m<module>\u001b[0;34m()\u001b[0m\n\u001b[1;32m      3\u001b[0m \u001b[0;34m\u001b[0m\u001b[0m\n\u001b[1;32m      4\u001b[0m \u001b[0mq\u001b[0m \u001b[0;34m=\u001b[0m \u001b[0mes\u001b[0m\u001b[0;34m.\u001b[0m\u001b[0msearch\u001b[0m\u001b[0;34m(\u001b[0m\u001b[0mindex\u001b[0m\u001b[0;34m=\u001b[0m\u001b[0;34m\"sw\"\u001b[0m\u001b[0;34m,\u001b[0m \u001b[0mbody\u001b[0m\u001b[0;34m=\u001b[0m\u001b[0;34m{\u001b[0m\u001b[0;34m\"query\"\u001b[0m\u001b[0;34m:\u001b[0m \u001b[0;34m{\u001b[0m\u001b[0;34m\"fuzzy_like_this_field\"\u001b[0m \u001b[0;34m:\u001b[0m \u001b[0;34m{\u001b[0m \u001b[0;34m\"name\"\u001b[0m \u001b[0;34m:\u001b[0m \u001b[0;34m{\u001b[0m\u001b[0;34m\"like_text\"\u001b[0m\u001b[0;34m:\u001b[0m \u001b[0;34m\"jaba\"\u001b[0m\u001b[0;34m,\u001b[0m \u001b[0;34m\"max_query_terms\"\u001b[0m\u001b[0;34m:\u001b[0m\u001b[0;36m5\u001b[0m\u001b[0;34m}\u001b[0m\u001b[0;34m}\u001b[0m\u001b[0;34m}\u001b[0m\u001b[0;34m}\u001b[0m\u001b[0;34m)\u001b[0m\u001b[0;34m\u001b[0m\u001b[0m\n\u001b[0;32m----> 5\u001b[0;31m \u001b[0mjsonq\u001b[0m \u001b[0;34m=\u001b[0m  \u001b[0mloads\u001b[0m\u001b[0;34m(\u001b[0m\u001b[0mq\u001b[0m\u001b[0;34m)\u001b[0m\u001b[0;34m\u001b[0m\u001b[0m\n\u001b[0m",
        "\u001b[0;32m/Library/Python/2.7/site-packages/simplejson/__init__.pyc\u001b[0m in \u001b[0;36mloads\u001b[0;34m(s, encoding, cls, object_hook, parse_float, parse_int, parse_constant, object_pairs_hook, use_decimal, **kw)\u001b[0m\n\u001b[1;32m    503\u001b[0m             \u001b[0mparse_constant\u001b[0m \u001b[0;32mis\u001b[0m \u001b[0mNone\u001b[0m \u001b[0;32mand\u001b[0m \u001b[0mobject_pairs_hook\u001b[0m \u001b[0;32mis\u001b[0m \u001b[0mNone\u001b[0m\u001b[0;34m\u001b[0m\u001b[0m\n\u001b[1;32m    504\u001b[0m             and not use_decimal and not kw):\n\u001b[0;32m--> 505\u001b[0;31m         \u001b[0;32mreturn\u001b[0m \u001b[0m_default_decoder\u001b[0m\u001b[0;34m.\u001b[0m\u001b[0mdecode\u001b[0m\u001b[0;34m(\u001b[0m\u001b[0ms\u001b[0m\u001b[0;34m)\u001b[0m\u001b[0;34m\u001b[0m\u001b[0m\n\u001b[0m\u001b[1;32m    506\u001b[0m     \u001b[0;32mif\u001b[0m \u001b[0mcls\u001b[0m \u001b[0;32mis\u001b[0m \u001b[0mNone\u001b[0m\u001b[0;34m:\u001b[0m\u001b[0;34m\u001b[0m\u001b[0m\n\u001b[1;32m    507\u001b[0m         \u001b[0mcls\u001b[0m \u001b[0;34m=\u001b[0m \u001b[0mJSONDecoder\u001b[0m\u001b[0;34m\u001b[0m\u001b[0m\n",
        "\u001b[0;32m/Library/Python/2.7/site-packages/simplejson/decoder.pyc\u001b[0m in \u001b[0;36mdecode\u001b[0;34m(self, s, _w, _PY3)\u001b[0m\n\u001b[1;32m    368\u001b[0m         \u001b[0;32mif\u001b[0m \u001b[0m_PY3\u001b[0m \u001b[0;32mand\u001b[0m \u001b[0misinstance\u001b[0m\u001b[0;34m(\u001b[0m\u001b[0ms\u001b[0m\u001b[0;34m,\u001b[0m \u001b[0mbinary_type\u001b[0m\u001b[0;34m)\u001b[0m\u001b[0;34m:\u001b[0m\u001b[0;34m\u001b[0m\u001b[0m\n\u001b[1;32m    369\u001b[0m             \u001b[0ms\u001b[0m \u001b[0;34m=\u001b[0m \u001b[0ms\u001b[0m\u001b[0;34m.\u001b[0m\u001b[0mdecode\u001b[0m\u001b[0;34m(\u001b[0m\u001b[0mself\u001b[0m\u001b[0;34m.\u001b[0m\u001b[0mencoding\u001b[0m\u001b[0;34m)\u001b[0m\u001b[0;34m\u001b[0m\u001b[0m\n\u001b[0;32m--> 370\u001b[0;31m         \u001b[0mobj\u001b[0m\u001b[0;34m,\u001b[0m \u001b[0mend\u001b[0m \u001b[0;34m=\u001b[0m \u001b[0mself\u001b[0m\u001b[0;34m.\u001b[0m\u001b[0mraw_decode\u001b[0m\u001b[0;34m(\u001b[0m\u001b[0ms\u001b[0m\u001b[0;34m)\u001b[0m\u001b[0;34m\u001b[0m\u001b[0m\n\u001b[0m\u001b[1;32m    371\u001b[0m         \u001b[0mend\u001b[0m \u001b[0;34m=\u001b[0m \u001b[0m_w\u001b[0m\u001b[0;34m(\u001b[0m\u001b[0ms\u001b[0m\u001b[0;34m,\u001b[0m \u001b[0mend\u001b[0m\u001b[0;34m)\u001b[0m\u001b[0;34m.\u001b[0m\u001b[0mend\u001b[0m\u001b[0;34m(\u001b[0m\u001b[0;34m)\u001b[0m\u001b[0;34m\u001b[0m\u001b[0m\n\u001b[1;32m    372\u001b[0m         \u001b[0;32mif\u001b[0m \u001b[0mend\u001b[0m \u001b[0;34m!=\u001b[0m \u001b[0mlen\u001b[0m\u001b[0;34m(\u001b[0m\u001b[0ms\u001b[0m\u001b[0;34m)\u001b[0m\u001b[0;34m:\u001b[0m\u001b[0;34m\u001b[0m\u001b[0m\n",
        "\u001b[0;32m/Library/Python/2.7/site-packages/simplejson/decoder.pyc\u001b[0m in \u001b[0;36mraw_decode\u001b[0;34m(self, s, idx, _w, _PY3)\u001b[0m\n\u001b[1;32m    393\u001b[0m         \u001b[0;31m# strip UTF-8 bom\u001b[0m\u001b[0;34m\u001b[0m\u001b[0;34m\u001b[0m\u001b[0m\n\u001b[1;32m    394\u001b[0m         \u001b[0;32mif\u001b[0m \u001b[0mlen\u001b[0m\u001b[0;34m(\u001b[0m\u001b[0ms\u001b[0m\u001b[0;34m)\u001b[0m \u001b[0;34m>\u001b[0m \u001b[0midx\u001b[0m\u001b[0;34m:\u001b[0m\u001b[0;34m\u001b[0m\u001b[0m\n\u001b[0;32m--> 395\u001b[0;31m             \u001b[0mord0\u001b[0m \u001b[0;34m=\u001b[0m \u001b[0mord\u001b[0m\u001b[0;34m(\u001b[0m\u001b[0ms\u001b[0m\u001b[0;34m[\u001b[0m\u001b[0midx\u001b[0m\u001b[0;34m]\u001b[0m\u001b[0;34m)\u001b[0m\u001b[0;34m\u001b[0m\u001b[0m\n\u001b[0m\u001b[1;32m    396\u001b[0m             \u001b[0;32mif\u001b[0m \u001b[0mord0\u001b[0m \u001b[0;34m==\u001b[0m \u001b[0;36m0xfeff\u001b[0m\u001b[0;34m:\u001b[0m\u001b[0;34m\u001b[0m\u001b[0m\n\u001b[1;32m    397\u001b[0m                 \u001b[0midx\u001b[0m \u001b[0;34m+=\u001b[0m \u001b[0;36m1\u001b[0m\u001b[0;34m\u001b[0m\u001b[0m\n",
        "\u001b[0;31mKeyError\u001b[0m: 0"
       ]
      }
     ],
     "prompt_number": 159
    },
    {
     "cell_type": "code",
     "collapsed": false,
     "input": [],
     "language": "python",
     "metadata": {},
     "outputs": [],
     "prompt_number": 142
    },
    {
     "cell_type": "code",
     "collapsed": false,
     "input": [],
     "language": "python",
     "metadata": {},
     "outputs": []
    }
   ],
   "metadata": {}
  }
 ]
}